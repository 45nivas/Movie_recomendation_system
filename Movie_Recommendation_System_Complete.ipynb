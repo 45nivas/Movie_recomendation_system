{
 "cells": [
  {
   "cell_type": "markdown",
   "id": "7b2f8c81",
   "metadata": {},
   "source": [
    "# 🎬 Content-Based Movie Recommendation System\n",
    "\n",
    "## 🔄 **Machine Learning Pipeline Overview**\n",
    "\n",
    "### **Step 1: Data Science Phase (Jupyter Notebook)** 📊\n",
    "1. **Data Loading**: Import CSV files (`tmdb_5000_movies.csv`, `tmdb_5000_credits.csv`)\n",
    "2. **Data Exploration**: Analyze structure, missing values, data types\n",
    "3. **Data Preprocessing**: Clean JSON fields, handle missing data\n",
    "4. **Feature Engineering**: Create combined features from genres, cast, keywords\n",
    "5. **Model Training**: Generate similarity matrix using cosine similarity\n",
    "6. **Model Evaluation**: Test recommendations and validate results\n",
    "7. **Model Persistence**: Save processed data and model to pickle files\n",
    "\n",
    "### **Step 2: Production Phase (Streamlit App)** 🚀\n",
    "1. **Model Loading**: Load pre-trained models from pickle files\n",
    "2. **User Interface**: Create interactive movie selection dropdown\n",
    "3. **Prediction**: Use trained similarity matrix for recommendations\n",
    "4. **Output Display**: Show recommended movies with posters\n",
    "5. **Deployment Ready**: Clean, user-friendly interface\n",
    "\n",
    "## 📋 **Project Workflow**\n",
    "```\n",
    "CSV Data → Jupyter Analysis → Trained Model → Streamlit App → User Interface\n",
    "   ↓             ↓              ↓              ↓              ↓\n",
    "Raw Data    Data Science    Pickle Files   Production    End Users\n",
    "```\n",
    "\n",
    "## 🎯 **Why This Approach?**\n",
    "- **Separation of Concerns**: Research vs Production code\n",
    "- **Iterative Development**: Test algorithms before deployment  \n",
    "- **Model Persistence**: Train once, deploy anywhere\n",
    "- **Reproducibility**: Complete pipeline documentation\n",
    "- **Interview Ready**: Shows proper ML workflow understanding\n",
    "\n",
    "---\n",
    "\n",
    "## 🚀 Quick Demo Setup\n",
    "**For Interviewers**: This notebook shows the complete data science process. The Streamlit app demonstrates the production deployment.\n",
    "\n",
    "## 📊 Technical Specifications\n",
    "- **Algorithm**: Content-based filtering with cosine similarity\n",
    "- **Dataset**: TMDB 5000 Movies (~44MB CSV files)\n",
    "- **Model Output**: 176MB similarity matrix + processed movie data\n",
    "- **Technology Stack**: Python, scikit-learn, pandas, streamlit"
   ]
  },
  {
   "cell_type": "markdown",
   "id": "48442a96",
   "metadata": {},
   "source": [
    "## 🔄 **Complete Development Workflow**\n",
    "\n",
    "### **Phase 1: Data Science (This Notebook)**\n",
    "```mermaid\n",
    "graph TD\n",
    "    A[CSV Files] --> B[Data Loading]\n",
    "    B --> C[Data Exploration]\n",
    "    C --> D[Data Cleaning]\n",
    "    D --> E[Feature Engineering]\n",
    "    E --> F[Model Training]\n",
    "    F --> G[Model Evaluation]\n",
    "    G --> H[Save Models to Pickle]\n",
    "```\n",
    "\n",
    "### **Phase 2: Production Deployment (app.py)**\n",
    "```mermaid\n",
    "graph TD\n",
    "    I[Load Pickle Files] --> J[Streamlit Interface]\n",
    "    J --> K[User Selects Movie]\n",
    "    K --> L[Similarity Calculation]\n",
    "    L --> M[Display Recommendations]\n",
    "    M --> N[Fetch Movie Posters]\n",
    "```\n",
    "\n",
    "### **File Structure After Training**\n",
    "```\n",
    "📂 Project/\n",
    "├── 📊 tmdb_5000_movies.csv          # Raw movie data\n",
    "├── 📊 tmdb_5000_credits.csv         # Raw credits data  \n",
    "├── 📓 Movie_Recommendation_System_Complete.ipynb  # THIS FILE (Training)\n",
    "├── 🎬 app.py                        # Production app\n",
    "├── 📁 model/                        # Generated after training\n",
    "│   ├── 🎯 movie_list.pkl           # Processed movie data\n",
    "│   └── 🔄 similarity.pkl           # Trained similarity matrix\n",
    "└── 📋 requirements.txt              # Dependencies\n",
    "```\n",
    "\n",
    "### **Interview Talking Points**\n",
    "1. **\"I followed proper ML workflow\"** - Separate research from production\n",
    "2. **\"Data preprocessing was complex\"** - JSON parsing, feature engineering  \n",
    "3. **\"Model persistence for deployment\"** - Pickle files for production use\n",
    "4. **\"Production-ready interface\"** - Streamlit for user interaction"
   ]
  },
  {
   "cell_type": "markdown",
   "id": "e2ca7ad7",
   "metadata": {},
   "source": [
    "# 🎬 Movie Recommendation System Using TMDB Dataset\n",
    "\n",
    "## Project Overview\n",
    "This project builds a content-based movie recommendation system using the TMDB 5000 movie dataset. The system recommends movies based on similarity in genres, keywords, cast, crew, and plot overview.\n",
    "\n",
    "## Key Features\n",
    "- **Content-Based Filtering**: Uses movie features for recommendations\n",
    "- **Cosine Similarity**: Mathematical approach to find similar movies\n",
    "- **Feature Engineering**: Combines multiple movie attributes\n",
    "- **Interactive Interface**: Easy-to-use recommendation function\n",
    "\n",
    "## Dataset Information\n",
    "- **Source**: TMDB 5000 Movie Dataset\n",
    "- **Size**: 5000 movies with comprehensive metadata\n",
    "- **Features**: Genres, Keywords, Cast, Crew, Overview, etc."
   ]
  },
  {
   "cell_type": "markdown",
   "id": "e56adbb6",
   "metadata": {},
   "source": [
    "## 1. Import Required Libraries"
   ]
  },
  {
   "cell_type": "code",
   "execution_count": 5,
   "id": "2dec0c04",
   "metadata": {},
   "outputs": [
    {
     "name": "stdout",
     "output_type": "stream",
     "text": [
      "✅ All libraries imported successfully!\n"
     ]
    }
   ],
   "source": [
    "# Data manipulation and analysis\n",
    "import numpy as np\n",
    "import pandas as pd\n",
    "import ast\n",
    "\n",
    "# Machine Learning\n",
    "from sklearn.feature_extraction.text import CountVectorizer\n",
    "from sklearn.metrics.pairwise import cosine_similarity\n",
    "\n",
    "# Data persistence\n",
    "import pickle\n",
    "\n",
    "# Visualization\n",
    "import matplotlib.pyplot as plt\n",
    "import seaborn as sns\n",
    "\n",
    "# Display settings\n",
    "pd.set_option('display.max_columns', None)\n",
    "pd.set_option('display.max_colwidth', 50)\n",
    "\n",
    "print(\"✅ All libraries imported successfully!\")"
   ]
  },
  {
   "cell_type": "markdown",
   "id": "060d7eaa",
   "metadata": {},
   "source": [
    "## 2. Data Loading and Initial Exploration"
   ]
  },
  {
   "cell_type": "code",
   "execution_count": 6,
   "id": "219adf67",
   "metadata": {},
   "outputs": [
    {
     "name": "stdout",
     "output_type": "stream",
     "text": [
      "Movies dataset shape: (4803, 20)\n",
      "Credits dataset shape: (4803, 4)\n",
      "\n",
      "Movies columns: ['budget', 'genres', 'homepage', 'id', 'keywords', 'original_language', 'original_title', 'overview', 'popularity', 'production_companies', 'production_countries', 'release_date', 'revenue', 'runtime', 'spoken_languages', 'status', 'tagline', 'title', 'vote_average', 'vote_count']\n",
      "Credits columns: ['movie_id', 'title', 'cast', 'crew']\n"
     ]
    }
   ],
   "source": [
    "# Load the datasets\n",
    "movies = pd.read_csv('tmdb_5000_movies.csv')\n",
    "credits = pd.read_csv('tmdb_5000_credits.csv')\n",
    "\n",
    "print(f\"Movies dataset shape: {movies.shape}\")\n",
    "print(f\"Credits dataset shape: {credits.shape}\")\n",
    "print(f\"\\nMovies columns: {list(movies.columns)}\")\n",
    "print(f\"Credits columns: {list(credits.columns)}\")"
   ]
  },
  {
   "cell_type": "code",
   "execution_count": 25,
   "id": "6a43ce83",
   "metadata": {},
   "outputs": [
    {
     "name": "stdout",
     "output_type": "stream",
     "text": [
      "📊 Sample Movies Data:\n"
     ]
    },
    {
     "data": {
      "text/html": [
       "<div>\n",
       "<style scoped>\n",
       "    .dataframe tbody tr th:only-of-type {\n",
       "        vertical-align: middle;\n",
       "    }\n",
       "\n",
       "    .dataframe tbody tr th {\n",
       "        vertical-align: top;\n",
       "    }\n",
       "\n",
       "    .dataframe thead th {\n",
       "        text-align: right;\n",
       "    }\n",
       "</style>\n",
       "<table border=\"1\" class=\"dataframe\">\n",
       "  <thead>\n",
       "    <tr style=\"text-align: right;\">\n",
       "      <th></th>\n",
       "      <th>movie_id</th>\n",
       "      <th>title</th>\n",
       "      <th>overview</th>\n",
       "      <th>genres</th>\n",
       "      <th>keywords</th>\n",
       "      <th>cast</th>\n",
       "      <th>crew</th>\n",
       "      <th>tags</th>\n",
       "    </tr>\n",
       "  </thead>\n",
       "  <tbody>\n",
       "    <tr>\n",
       "      <th>0</th>\n",
       "      <td>19995</td>\n",
       "      <td>Avatar</td>\n",
       "      <td>[In, the, 22nd, century,, a, paraplegic, Marin...</td>\n",
       "      <td>[Action, Adventure, Fantasy, ScienceFiction]</td>\n",
       "      <td>[cultureclash, future, spacewar, spacecolony, ...</td>\n",
       "      <td>[SamWorthington, ZoeSaldana, SigourneyWeaver]</td>\n",
       "      <td>[JamesCameron]</td>\n",
       "      <td>[In, the, 22nd, century,, a, paraplegic, Marin...</td>\n",
       "    </tr>\n",
       "    <tr>\n",
       "      <th>1</th>\n",
       "      <td>285</td>\n",
       "      <td>Pirates of the Caribbean: At World's End</td>\n",
       "      <td>[Captain, Barbossa,, long, believed, to, be, d...</td>\n",
       "      <td>[Adventure, Fantasy, Action]</td>\n",
       "      <td>[ocean, drugabuse, exoticisland, eastindiatrad...</td>\n",
       "      <td>[JohnnyDepp, OrlandoBloom, KeiraKnightley]</td>\n",
       "      <td>[GoreVerbinski]</td>\n",
       "      <td>[Captain, Barbossa,, long, believed, to, be, d...</td>\n",
       "    </tr>\n",
       "    <tr>\n",
       "      <th>2</th>\n",
       "      <td>206647</td>\n",
       "      <td>Spectre</td>\n",
       "      <td>[A, cryptic, message, from, Bond’s, past, send...</td>\n",
       "      <td>[Action, Adventure, Crime]</td>\n",
       "      <td>[spy, basedonnovel, secretagent, sequel, mi6, ...</td>\n",
       "      <td>[DanielCraig, ChristophWaltz, LéaSeydoux]</td>\n",
       "      <td>[SamMendes]</td>\n",
       "      <td>[A, cryptic, message, from, Bond’s, past, send...</td>\n",
       "    </tr>\n",
       "  </tbody>\n",
       "</table>\n",
       "</div>"
      ],
      "text/plain": [
       "   movie_id                                     title  \\\n",
       "0     19995                                    Avatar   \n",
       "1       285  Pirates of the Caribbean: At World's End   \n",
       "2    206647                                   Spectre   \n",
       "\n",
       "                                            overview  \\\n",
       "0  [In, the, 22nd, century,, a, paraplegic, Marin...   \n",
       "1  [Captain, Barbossa,, long, believed, to, be, d...   \n",
       "2  [A, cryptic, message, from, Bond’s, past, send...   \n",
       "\n",
       "                                         genres  \\\n",
       "0  [Action, Adventure, Fantasy, ScienceFiction]   \n",
       "1                  [Adventure, Fantasy, Action]   \n",
       "2                    [Action, Adventure, Crime]   \n",
       "\n",
       "                                            keywords  \\\n",
       "0  [cultureclash, future, spacewar, spacecolony, ...   \n",
       "1  [ocean, drugabuse, exoticisland, eastindiatrad...   \n",
       "2  [spy, basedonnovel, secretagent, sequel, mi6, ...   \n",
       "\n",
       "                                            cast             crew  \\\n",
       "0  [SamWorthington, ZoeSaldana, SigourneyWeaver]   [JamesCameron]   \n",
       "1     [JohnnyDepp, OrlandoBloom, KeiraKnightley]  [GoreVerbinski]   \n",
       "2      [DanielCraig, ChristophWaltz, LéaSeydoux]      [SamMendes]   \n",
       "\n",
       "                                                tags  \n",
       "0  [In, the, 22nd, century,, a, paraplegic, Marin...  \n",
       "1  [Captain, Barbossa,, long, believed, to, be, d...  \n",
       "2  [A, cryptic, message, from, Bond’s, past, send...  "
      ]
     },
     "metadata": {},
     "output_type": "display_data"
    },
    {
     "name": "stdout",
     "output_type": "stream",
     "text": [
      "\n",
      "📊 Sample Credits Data:\n"
     ]
    },
    {
     "data": {
      "text/html": [
       "<div>\n",
       "<style scoped>\n",
       "    .dataframe tbody tr th:only-of-type {\n",
       "        vertical-align: middle;\n",
       "    }\n",
       "\n",
       "    .dataframe tbody tr th {\n",
       "        vertical-align: top;\n",
       "    }\n",
       "\n",
       "    .dataframe thead th {\n",
       "        text-align: right;\n",
       "    }\n",
       "</style>\n",
       "<table border=\"1\" class=\"dataframe\">\n",
       "  <thead>\n",
       "    <tr style=\"text-align: right;\">\n",
       "      <th></th>\n",
       "      <th>movie_id</th>\n",
       "      <th>title</th>\n",
       "      <th>cast</th>\n",
       "      <th>crew</th>\n",
       "    </tr>\n",
       "  </thead>\n",
       "  <tbody>\n",
       "    <tr>\n",
       "      <th>0</th>\n",
       "      <td>19995</td>\n",
       "      <td>Avatar</td>\n",
       "      <td>[{\"cast_id\": 242, \"character\": \"Jake Sully\", \"...</td>\n",
       "      <td>[{\"credit_id\": \"52fe48009251416c750aca23\", \"de...</td>\n",
       "    </tr>\n",
       "    <tr>\n",
       "      <th>1</th>\n",
       "      <td>285</td>\n",
       "      <td>Pirates of the Caribbean: At World's End</td>\n",
       "      <td>[{\"cast_id\": 4, \"character\": \"Captain Jack Spa...</td>\n",
       "      <td>[{\"credit_id\": \"52fe4232c3a36847f800b579\", \"de...</td>\n",
       "    </tr>\n",
       "    <tr>\n",
       "      <th>2</th>\n",
       "      <td>206647</td>\n",
       "      <td>Spectre</td>\n",
       "      <td>[{\"cast_id\": 1, \"character\": \"James Bond\", \"cr...</td>\n",
       "      <td>[{\"credit_id\": \"54805967c3a36829b5002c41\", \"de...</td>\n",
       "    </tr>\n",
       "  </tbody>\n",
       "</table>\n",
       "</div>"
      ],
      "text/plain": [
       "   movie_id                                     title  \\\n",
       "0     19995                                    Avatar   \n",
       "1       285  Pirates of the Caribbean: At World's End   \n",
       "2    206647                                   Spectre   \n",
       "\n",
       "                                                cast  \\\n",
       "0  [{\"cast_id\": 242, \"character\": \"Jake Sully\", \"...   \n",
       "1  [{\"cast_id\": 4, \"character\": \"Captain Jack Spa...   \n",
       "2  [{\"cast_id\": 1, \"character\": \"James Bond\", \"cr...   \n",
       "\n",
       "                                                crew  \n",
       "0  [{\"credit_id\": \"52fe48009251416c750aca23\", \"de...  \n",
       "1  [{\"credit_id\": \"52fe4232c3a36847f800b579\", \"de...  \n",
       "2  [{\"credit_id\": \"54805967c3a36829b5002c41\", \"de...  "
      ]
     },
     "metadata": {},
     "output_type": "display_data"
    }
   ],
   "source": [
    "# Display sample data\n",
    "print(\"📊 Sample Movies Data:\")\n",
    "display(movies.head(3))\n",
    "\n",
    "print(\"\\n📊 Sample Credits Data:\")\n",
    "display(credits.head(3))"
   ]
  },
  {
   "cell_type": "code",
   "execution_count": 8,
   "id": "fc6612ea",
   "metadata": {},
   "outputs": [
    {
     "name": "stdout",
     "output_type": "stream",
     "text": [
      "🔍 Missing Values Analysis:\n",
      "\n",
      "Movies dataset:\n",
      "budget                     0\n",
      "genres                     0\n",
      "homepage                3091\n",
      "id                         0\n",
      "keywords                   0\n",
      "original_language          0\n",
      "original_title             0\n",
      "overview                   3\n",
      "popularity                 0\n",
      "production_companies       0\n",
      "production_countries       0\n",
      "release_date               1\n",
      "revenue                    0\n",
      "runtime                    2\n",
      "spoken_languages           0\n",
      "status                     0\n",
      "tagline                  844\n",
      "title                      0\n",
      "vote_average               0\n",
      "vote_count                 0\n",
      "dtype: int64\n",
      "\n",
      "Credits dataset:\n",
      "movie_id    0\n",
      "title       0\n",
      "cast        0\n",
      "crew        0\n",
      "dtype: int64\n"
     ]
    }
   ],
   "source": [
    "# Check for missing values\n",
    "print(\"🔍 Missing Values Analysis:\")\n",
    "print(\"\\nMovies dataset:\")\n",
    "print(movies.isnull().sum())\n",
    "print(\"\\nCredits dataset:\")\n",
    "print(credits.isnull().sum())"
   ]
  },
  {
   "cell_type": "markdown",
   "id": "50cd3134",
   "metadata": {},
   "source": [
    "## 3. Data Preprocessing and Feature Engineering"
   ]
  },
  {
   "cell_type": "code",
   "execution_count": 9,
   "id": "31079e61",
   "metadata": {},
   "outputs": [
    {
     "name": "stdout",
     "output_type": "stream",
     "text": [
      "✅ Merged dataset shape: (4809, 23)\n",
      "✅ Selected features: ['movie_id', 'title', 'overview', 'genres', 'keywords', 'cast', 'crew']\n",
      "Before removing NaN: 4809 movies\n",
      "After removing NaN: 4806 movies\n"
     ]
    }
   ],
   "source": [
    "# Merge datasets on title\n",
    "movies = movies.merge(credits, on='title')\n",
    "print(f\"✅ Merged dataset shape: {movies.shape}\")\n",
    "\n",
    "# Select relevant features for recommendation\n",
    "movies = movies[['movie_id', 'title', 'overview', 'genres', 'keywords', 'cast', 'crew']]\n",
    "print(f\"✅ Selected features: {list(movies.columns)}\")\n",
    "\n",
    "# Remove rows with missing values\n",
    "print(f\"Before removing NaN: {movies.shape[0]} movies\")\n",
    "movies.dropna(inplace=True)\n",
    "print(f\"After removing NaN: {movies.shape[0]} movies\")"
   ]
  },
  {
   "cell_type": "code",
   "execution_count": 10,
   "id": "6be3056b",
   "metadata": {},
   "outputs": [
    {
     "name": "stdout",
     "output_type": "stream",
     "text": [
      "✅ Helper functions defined!\n"
     ]
    }
   ],
   "source": [
    "# Helper functions for data processing\n",
    "def convert_to_list(text):\n",
    "    \"\"\"Convert JSON string to list of names\"\"\"\n",
    "    L = []\n",
    "    for i in ast.literal_eval(text):\n",
    "        L.append(i['name']) \n",
    "    return L\n",
    "\n",
    "def get_director(text):\n",
    "    \"\"\"Extract director name from crew data\"\"\"\n",
    "    L = []\n",
    "    for i in ast.literal_eval(text):\n",
    "        if i['job'] == 'Director':\n",
    "            L.append(i['name'])\n",
    "    return L\n",
    "\n",
    "def remove_spaces(word_list):\n",
    "    \"\"\"Remove spaces from words to avoid splitting\"\"\"\n",
    "    L = []\n",
    "    for i in word_list:\n",
    "        L.append(i.replace(\" \", \"\"))\n",
    "    return L\n",
    "\n",
    "print(\"✅ Helper functions defined!\")"
   ]
  },
  {
   "cell_type": "code",
   "execution_count": 24,
   "id": "8dd55862",
   "metadata": {},
   "outputs": [
    {
     "ename": "ValueError",
     "evalue": "malformed node or string: ['Action', 'Adventure', 'Fantasy', 'ScienceFiction']",
     "output_type": "error",
     "traceback": [
      "\u001b[31m---------------------------------------------------------------------------\u001b[39m",
      "\u001b[31mValueError\u001b[39m                                Traceback (most recent call last)",
      "\u001b[36mCell\u001b[39m\u001b[36m \u001b[39m\u001b[32mIn[24]\u001b[39m\u001b[32m, line 2\u001b[39m\n\u001b[32m      1\u001b[39m \u001b[38;5;66;03m# Process genres and keywords\u001b[39;00m\n\u001b[32m----> \u001b[39m\u001b[32m2\u001b[39m movies[\u001b[33m'\u001b[39m\u001b[33mgenres\u001b[39m\u001b[33m'\u001b[39m] = \u001b[43mmovies\u001b[49m\u001b[43m[\u001b[49m\u001b[33;43m'\u001b[39;49m\u001b[33;43mgenres\u001b[39;49m\u001b[33;43m'\u001b[39;49m\u001b[43m]\u001b[49m\u001b[43m.\u001b[49m\u001b[43mapply\u001b[49m\u001b[43m(\u001b[49m\u001b[43mconvert_to_list\u001b[49m\u001b[43m)\u001b[49m\n\u001b[32m      3\u001b[39m movies[\u001b[33m'\u001b[39m\u001b[33mkeywords\u001b[39m\u001b[33m'\u001b[39m] = movies[\u001b[33m'\u001b[39m\u001b[33mkeywords\u001b[39m\u001b[33m'\u001b[39m].apply(convert_to_list)\n\u001b[32m      5\u001b[39m \u001b[38;5;66;03m# Process cast (take top 3 actors only)\u001b[39;00m\n",
      "\u001b[36mFile \u001b[39m\u001b[32mc:\\Users\\matta\\OneDrive\\Desktop\\centific\\movie_recomendation_sys\\.venv\\Lib\\site-packages\\pandas\\core\\series.py:4935\u001b[39m, in \u001b[36mSeries.apply\u001b[39m\u001b[34m(self, func, convert_dtype, args, by_row, **kwargs)\u001b[39m\n\u001b[32m   4800\u001b[39m \u001b[38;5;28;01mdef\u001b[39;00m\u001b[38;5;250m \u001b[39m\u001b[34mapply\u001b[39m(\n\u001b[32m   4801\u001b[39m     \u001b[38;5;28mself\u001b[39m,\n\u001b[32m   4802\u001b[39m     func: AggFuncType,\n\u001b[32m   (...)\u001b[39m\u001b[32m   4807\u001b[39m     **kwargs,\n\u001b[32m   4808\u001b[39m ) -> DataFrame | Series:\n\u001b[32m   4809\u001b[39m \u001b[38;5;250m    \u001b[39m\u001b[33;03m\"\"\"\u001b[39;00m\n\u001b[32m   4810\u001b[39m \u001b[33;03m    Invoke function on values of Series.\u001b[39;00m\n\u001b[32m   4811\u001b[39m \n\u001b[32m   (...)\u001b[39m\u001b[32m   4926\u001b[39m \u001b[33;03m    dtype: float64\u001b[39;00m\n\u001b[32m   4927\u001b[39m \u001b[33;03m    \"\"\"\u001b[39;00m\n\u001b[32m   4928\u001b[39m     \u001b[38;5;28;01mreturn\u001b[39;00m \u001b[43mSeriesApply\u001b[49m\u001b[43m(\u001b[49m\n\u001b[32m   4929\u001b[39m \u001b[43m        \u001b[49m\u001b[38;5;28;43mself\u001b[39;49m\u001b[43m,\u001b[49m\n\u001b[32m   4930\u001b[39m \u001b[43m        \u001b[49m\u001b[43mfunc\u001b[49m\u001b[43m,\u001b[49m\n\u001b[32m   4931\u001b[39m \u001b[43m        \u001b[49m\u001b[43mconvert_dtype\u001b[49m\u001b[43m=\u001b[49m\u001b[43mconvert_dtype\u001b[49m\u001b[43m,\u001b[49m\n\u001b[32m   4932\u001b[39m \u001b[43m        \u001b[49m\u001b[43mby_row\u001b[49m\u001b[43m=\u001b[49m\u001b[43mby_row\u001b[49m\u001b[43m,\u001b[49m\n\u001b[32m   4933\u001b[39m \u001b[43m        \u001b[49m\u001b[43margs\u001b[49m\u001b[43m=\u001b[49m\u001b[43margs\u001b[49m\u001b[43m,\u001b[49m\n\u001b[32m   4934\u001b[39m \u001b[43m        \u001b[49m\u001b[43mkwargs\u001b[49m\u001b[43m=\u001b[49m\u001b[43mkwargs\u001b[49m\u001b[43m,\u001b[49m\n\u001b[32m-> \u001b[39m\u001b[32m4935\u001b[39m \u001b[43m    \u001b[49m\u001b[43m)\u001b[49m\u001b[43m.\u001b[49m\u001b[43mapply\u001b[49m\u001b[43m(\u001b[49m\u001b[43m)\u001b[49m\n",
      "\u001b[36mFile \u001b[39m\u001b[32mc:\\Users\\matta\\OneDrive\\Desktop\\centific\\movie_recomendation_sys\\.venv\\Lib\\site-packages\\pandas\\core\\apply.py:1422\u001b[39m, in \u001b[36mSeriesApply.apply\u001b[39m\u001b[34m(self)\u001b[39m\n\u001b[32m   1419\u001b[39m     \u001b[38;5;28;01mreturn\u001b[39;00m \u001b[38;5;28mself\u001b[39m.apply_compat()\n\u001b[32m   1421\u001b[39m \u001b[38;5;66;03m# self.func is Callable\u001b[39;00m\n\u001b[32m-> \u001b[39m\u001b[32m1422\u001b[39m \u001b[38;5;28;01mreturn\u001b[39;00m \u001b[38;5;28;43mself\u001b[39;49m\u001b[43m.\u001b[49m\u001b[43mapply_standard\u001b[49m\u001b[43m(\u001b[49m\u001b[43m)\u001b[49m\n",
      "\u001b[36mFile \u001b[39m\u001b[32mc:\\Users\\matta\\OneDrive\\Desktop\\centific\\movie_recomendation_sys\\.venv\\Lib\\site-packages\\pandas\\core\\apply.py:1502\u001b[39m, in \u001b[36mSeriesApply.apply_standard\u001b[39m\u001b[34m(self)\u001b[39m\n\u001b[32m   1496\u001b[39m \u001b[38;5;66;03m# row-wise access\u001b[39;00m\n\u001b[32m   1497\u001b[39m \u001b[38;5;66;03m# apply doesn't have a `na_action` keyword and for backward compat reasons\u001b[39;00m\n\u001b[32m   1498\u001b[39m \u001b[38;5;66;03m# we need to give `na_action=\"ignore\"` for categorical data.\u001b[39;00m\n\u001b[32m   1499\u001b[39m \u001b[38;5;66;03m# TODO: remove the `na_action=\"ignore\"` when that default has been changed in\u001b[39;00m\n\u001b[32m   1500\u001b[39m \u001b[38;5;66;03m#  Categorical (GH51645).\u001b[39;00m\n\u001b[32m   1501\u001b[39m action = \u001b[33m\"\u001b[39m\u001b[33mignore\u001b[39m\u001b[33m\"\u001b[39m \u001b[38;5;28;01mif\u001b[39;00m \u001b[38;5;28misinstance\u001b[39m(obj.dtype, CategoricalDtype) \u001b[38;5;28;01melse\u001b[39;00m \u001b[38;5;28;01mNone\u001b[39;00m\n\u001b[32m-> \u001b[39m\u001b[32m1502\u001b[39m mapped = \u001b[43mobj\u001b[49m\u001b[43m.\u001b[49m\u001b[43m_map_values\u001b[49m\u001b[43m(\u001b[49m\n\u001b[32m   1503\u001b[39m \u001b[43m    \u001b[49m\u001b[43mmapper\u001b[49m\u001b[43m=\u001b[49m\u001b[43mcurried\u001b[49m\u001b[43m,\u001b[49m\u001b[43m \u001b[49m\u001b[43mna_action\u001b[49m\u001b[43m=\u001b[49m\u001b[43maction\u001b[49m\u001b[43m,\u001b[49m\u001b[43m \u001b[49m\u001b[43mconvert\u001b[49m\u001b[43m=\u001b[49m\u001b[38;5;28;43mself\u001b[39;49m\u001b[43m.\u001b[49m\u001b[43mconvert_dtype\u001b[49m\n\u001b[32m   1504\u001b[39m \u001b[43m\u001b[49m\u001b[43m)\u001b[49m\n\u001b[32m   1506\u001b[39m \u001b[38;5;28;01mif\u001b[39;00m \u001b[38;5;28mlen\u001b[39m(mapped) \u001b[38;5;129;01mand\u001b[39;00m \u001b[38;5;28misinstance\u001b[39m(mapped[\u001b[32m0\u001b[39m], ABCSeries):\n\u001b[32m   1507\u001b[39m     \u001b[38;5;66;03m# GH#43986 Need to do list(mapped) in order to get treated as nested\u001b[39;00m\n\u001b[32m   1508\u001b[39m     \u001b[38;5;66;03m#  See also GH#25959 regarding EA support\u001b[39;00m\n\u001b[32m   1509\u001b[39m     \u001b[38;5;28;01mreturn\u001b[39;00m obj._constructor_expanddim(\u001b[38;5;28mlist\u001b[39m(mapped), index=obj.index)\n",
      "\u001b[36mFile \u001b[39m\u001b[32mc:\\Users\\matta\\OneDrive\\Desktop\\centific\\movie_recomendation_sys\\.venv\\Lib\\site-packages\\pandas\\core\\base.py:925\u001b[39m, in \u001b[36mIndexOpsMixin._map_values\u001b[39m\u001b[34m(self, mapper, na_action, convert)\u001b[39m\n\u001b[32m    922\u001b[39m \u001b[38;5;28;01mif\u001b[39;00m \u001b[38;5;28misinstance\u001b[39m(arr, ExtensionArray):\n\u001b[32m    923\u001b[39m     \u001b[38;5;28;01mreturn\u001b[39;00m arr.map(mapper, na_action=na_action)\n\u001b[32m--> \u001b[39m\u001b[32m925\u001b[39m \u001b[38;5;28;01mreturn\u001b[39;00m \u001b[43malgorithms\u001b[49m\u001b[43m.\u001b[49m\u001b[43mmap_array\u001b[49m\u001b[43m(\u001b[49m\u001b[43marr\u001b[49m\u001b[43m,\u001b[49m\u001b[43m \u001b[49m\u001b[43mmapper\u001b[49m\u001b[43m,\u001b[49m\u001b[43m \u001b[49m\u001b[43mna_action\u001b[49m\u001b[43m=\u001b[49m\u001b[43mna_action\u001b[49m\u001b[43m,\u001b[49m\u001b[43m \u001b[49m\u001b[43mconvert\u001b[49m\u001b[43m=\u001b[49m\u001b[43mconvert\u001b[49m\u001b[43m)\u001b[49m\n",
      "\u001b[36mFile \u001b[39m\u001b[32mc:\\Users\\matta\\OneDrive\\Desktop\\centific\\movie_recomendation_sys\\.venv\\Lib\\site-packages\\pandas\\core\\algorithms.py:1743\u001b[39m, in \u001b[36mmap_array\u001b[39m\u001b[34m(arr, mapper, na_action, convert)\u001b[39m\n\u001b[32m   1741\u001b[39m values = arr.astype(\u001b[38;5;28mobject\u001b[39m, copy=\u001b[38;5;28;01mFalse\u001b[39;00m)\n\u001b[32m   1742\u001b[39m \u001b[38;5;28;01mif\u001b[39;00m na_action \u001b[38;5;129;01mis\u001b[39;00m \u001b[38;5;28;01mNone\u001b[39;00m:\n\u001b[32m-> \u001b[39m\u001b[32m1743\u001b[39m     \u001b[38;5;28;01mreturn\u001b[39;00m \u001b[43mlib\u001b[49m\u001b[43m.\u001b[49m\u001b[43mmap_infer\u001b[49m\u001b[43m(\u001b[49m\u001b[43mvalues\u001b[49m\u001b[43m,\u001b[49m\u001b[43m \u001b[49m\u001b[43mmapper\u001b[49m\u001b[43m,\u001b[49m\u001b[43m \u001b[49m\u001b[43mconvert\u001b[49m\u001b[43m=\u001b[49m\u001b[43mconvert\u001b[49m\u001b[43m)\u001b[49m\n\u001b[32m   1744\u001b[39m \u001b[38;5;28;01melse\u001b[39;00m:\n\u001b[32m   1745\u001b[39m     \u001b[38;5;28;01mreturn\u001b[39;00m lib.map_infer_mask(\n\u001b[32m   1746\u001b[39m         values, mapper, mask=isna(values).view(np.uint8), convert=convert\n\u001b[32m   1747\u001b[39m     )\n",
      "\u001b[36mFile \u001b[39m\u001b[32mpandas/_libs/lib.pyx:2999\u001b[39m, in \u001b[36mpandas._libs.lib.map_infer\u001b[39m\u001b[34m()\u001b[39m\n",
      "\u001b[36mCell\u001b[39m\u001b[36m \u001b[39m\u001b[32mIn[10]\u001b[39m\u001b[32m, line 5\u001b[39m, in \u001b[36mconvert_to_list\u001b[39m\u001b[34m(text)\u001b[39m\n\u001b[32m      3\u001b[39m \u001b[38;5;250m\u001b[39m\u001b[33;03m\"\"\"Convert JSON string to list of names\"\"\"\u001b[39;00m\n\u001b[32m      4\u001b[39m L = []\n\u001b[32m----> \u001b[39m\u001b[32m5\u001b[39m \u001b[38;5;28;01mfor\u001b[39;00m i \u001b[38;5;129;01min\u001b[39;00m \u001b[43mast\u001b[49m\u001b[43m.\u001b[49m\u001b[43mliteral_eval\u001b[49m\u001b[43m(\u001b[49m\u001b[43mtext\u001b[49m\u001b[43m)\u001b[49m:\n\u001b[32m      6\u001b[39m     L.append(i[\u001b[33m'\u001b[39m\u001b[33mname\u001b[39m\u001b[33m'\u001b[39m]) \n\u001b[32m      7\u001b[39m \u001b[38;5;28;01mreturn\u001b[39;00m L\n",
      "\u001b[36mFile \u001b[39m\u001b[32m~\\AppData\\Local\\Programs\\Python\\Python312\\Lib\\ast.py:112\u001b[39m, in \u001b[36mliteral_eval\u001b[39m\u001b[34m(node_or_string)\u001b[39m\n\u001b[32m    110\u001b[39m                 \u001b[38;5;28;01mreturn\u001b[39;00m left - right\n\u001b[32m    111\u001b[39m     \u001b[38;5;28;01mreturn\u001b[39;00m _convert_signed_num(node)\n\u001b[32m--> \u001b[39m\u001b[32m112\u001b[39m \u001b[38;5;28;01mreturn\u001b[39;00m \u001b[43m_convert\u001b[49m\u001b[43m(\u001b[49m\u001b[43mnode_or_string\u001b[49m\u001b[43m)\u001b[49m\n",
      "\u001b[36mFile \u001b[39m\u001b[32m~\\AppData\\Local\\Programs\\Python\\Python312\\Lib\\ast.py:111\u001b[39m, in \u001b[36mliteral_eval.<locals>._convert\u001b[39m\u001b[34m(node)\u001b[39m\n\u001b[32m    109\u001b[39m         \u001b[38;5;28;01melse\u001b[39;00m:\n\u001b[32m    110\u001b[39m             \u001b[38;5;28;01mreturn\u001b[39;00m left - right\n\u001b[32m--> \u001b[39m\u001b[32m111\u001b[39m \u001b[38;5;28;01mreturn\u001b[39;00m \u001b[43m_convert_signed_num\u001b[49m\u001b[43m(\u001b[49m\u001b[43mnode\u001b[49m\u001b[43m)\u001b[49m\n",
      "\u001b[36mFile \u001b[39m\u001b[32m~\\AppData\\Local\\Programs\\Python\\Python312\\Lib\\ast.py:85\u001b[39m, in \u001b[36mliteral_eval.<locals>._convert_signed_num\u001b[39m\u001b[34m(node)\u001b[39m\n\u001b[32m     83\u001b[39m     \u001b[38;5;28;01melse\u001b[39;00m:\n\u001b[32m     84\u001b[39m         \u001b[38;5;28;01mreturn\u001b[39;00m - operand\n\u001b[32m---> \u001b[39m\u001b[32m85\u001b[39m \u001b[38;5;28;01mreturn\u001b[39;00m \u001b[43m_convert_num\u001b[49m\u001b[43m(\u001b[49m\u001b[43mnode\u001b[49m\u001b[43m)\u001b[49m\n",
      "\u001b[36mFile \u001b[39m\u001b[32m~\\AppData\\Local\\Programs\\Python\\Python312\\Lib\\ast.py:76\u001b[39m, in \u001b[36mliteral_eval.<locals>._convert_num\u001b[39m\u001b[34m(node)\u001b[39m\n\u001b[32m     74\u001b[39m \u001b[38;5;28;01mdef\u001b[39;00m\u001b[38;5;250m \u001b[39m\u001b[34m_convert_num\u001b[39m(node):\n\u001b[32m     75\u001b[39m     \u001b[38;5;28;01mif\u001b[39;00m \u001b[38;5;129;01mnot\u001b[39;00m \u001b[38;5;28misinstance\u001b[39m(node, Constant) \u001b[38;5;129;01mor\u001b[39;00m \u001b[38;5;28mtype\u001b[39m(node.value) \u001b[38;5;129;01mnot\u001b[39;00m \u001b[38;5;129;01min\u001b[39;00m (\u001b[38;5;28mint\u001b[39m, \u001b[38;5;28mfloat\u001b[39m, \u001b[38;5;28mcomplex\u001b[39m):\n\u001b[32m---> \u001b[39m\u001b[32m76\u001b[39m         \u001b[43m_raise_malformed_node\u001b[49m\u001b[43m(\u001b[49m\u001b[43mnode\u001b[49m\u001b[43m)\u001b[49m\n\u001b[32m     77\u001b[39m     \u001b[38;5;28;01mreturn\u001b[39;00m node.value\n",
      "\u001b[36mFile \u001b[39m\u001b[32m~\\AppData\\Local\\Programs\\Python\\Python312\\Lib\\ast.py:73\u001b[39m, in \u001b[36mliteral_eval.<locals>._raise_malformed_node\u001b[39m\u001b[34m(node)\u001b[39m\n\u001b[32m     71\u001b[39m \u001b[38;5;28;01mif\u001b[39;00m lno := \u001b[38;5;28mgetattr\u001b[39m(node, \u001b[33m'\u001b[39m\u001b[33mlineno\u001b[39m\u001b[33m'\u001b[39m, \u001b[38;5;28;01mNone\u001b[39;00m):\n\u001b[32m     72\u001b[39m     msg += \u001b[33mf\u001b[39m\u001b[33m'\u001b[39m\u001b[33m on line \u001b[39m\u001b[38;5;132;01m{\u001b[39;00mlno\u001b[38;5;132;01m}\u001b[39;00m\u001b[33m'\u001b[39m\n\u001b[32m---> \u001b[39m\u001b[32m73\u001b[39m \u001b[38;5;28;01mraise\u001b[39;00m \u001b[38;5;167;01mValueError\u001b[39;00m(msg + \u001b[33mf\u001b[39m\u001b[33m'\u001b[39m\u001b[33m: \u001b[39m\u001b[38;5;132;01m{\u001b[39;00mnode\u001b[38;5;132;01m!r}\u001b[39;00m\u001b[33m'\u001b[39m)\n",
      "\u001b[31mValueError\u001b[39m: malformed node or string: ['Action', 'Adventure', 'Fantasy', 'ScienceFiction']"
     ]
    }
   ],
   "source": [
    "# Process genres and keywords\n",
    "movies['genres'] = movies['genres'].apply(convert_to_list)\n",
    "movies['keywords'] = movies['keywords'].apply(convert_to_list)\n",
    "\n",
    "# Process cast (take top 3 actors only)\n",
    "movies['cast'] = movies['cast'].apply(convert_to_list)\n",
    "movies['cast'] = movies['cast'].apply(lambda x: x[0:3])\n",
    "\n",
    "# Process crew (extract director only)\n",
    "movies['crew'] = movies['crew'].apply(get_director)\n",
    "\n",
    "print(\"✅ JSON data processed successfully!\")\n",
    "print(\"\\n📊 Sample processed data:\")\n",
    "display(movies[['title', 'genres', 'keywords', 'cast', 'crew']].head(2))"
   ]
  },
  {
   "cell_type": "code",
   "execution_count": 12,
   "id": "cdbc791b",
   "metadata": {},
   "outputs": [
    {
     "name": "stdout",
     "output_type": "stream",
     "text": [
      "✅ Spaces removed and overview processed!\n"
     ]
    }
   ],
   "source": [
    "# Remove spaces from all feature lists\n",
    "movies['cast'] = movies['cast'].apply(remove_spaces)\n",
    "movies['crew'] = movies['crew'].apply(remove_spaces)\n",
    "movies['genres'] = movies['genres'].apply(remove_spaces)\n",
    "movies['keywords'] = movies['keywords'].apply(remove_spaces)\n",
    "\n",
    "# Process overview (split into words)\n",
    "movies['overview'] = movies['overview'].apply(lambda x: x.split())\n",
    "\n",
    "print(\"✅ Spaces removed and overview processed!\")"
   ]
  },
  {
   "cell_type": "markdown",
   "id": "4c73072d",
   "metadata": {},
   "source": [
    "## 4. Feature Combination and Text Vectorization"
   ]
  },
  {
   "cell_type": "code",
   "execution_count": 26,
   "id": "e95bcc27",
   "metadata": {},
   "outputs": [
    {
     "name": "stdout",
     "output_type": "stream",
     "text": [
      "✅ Final dataset shape: (4806, 3)\n",
      "\n",
      "📊 Sample combined tags:\n"
     ]
    },
    {
     "data": {
      "text/html": [
       "<div>\n",
       "<style scoped>\n",
       "    .dataframe tbody tr th:only-of-type {\n",
       "        vertical-align: middle;\n",
       "    }\n",
       "\n",
       "    .dataframe tbody tr th {\n",
       "        vertical-align: top;\n",
       "    }\n",
       "\n",
       "    .dataframe thead th {\n",
       "        text-align: right;\n",
       "    }\n",
       "</style>\n",
       "<table border=\"1\" class=\"dataframe\">\n",
       "  <thead>\n",
       "    <tr style=\"text-align: right;\">\n",
       "      <th></th>\n",
       "      <th>title</th>\n",
       "      <th>tags</th>\n",
       "    </tr>\n",
       "  </thead>\n",
       "  <tbody>\n",
       "    <tr>\n",
       "      <th>0</th>\n",
       "      <td>Avatar</td>\n",
       "      <td>In the 22nd century, a paraplegic Marine is di...</td>\n",
       "    </tr>\n",
       "    <tr>\n",
       "      <th>1</th>\n",
       "      <td>Pirates of the Caribbean: At World's End</td>\n",
       "      <td>Captain Barbossa, long believed to be dead, ha...</td>\n",
       "    </tr>\n",
       "  </tbody>\n",
       "</table>\n",
       "</div>"
      ],
      "text/plain": [
       "                                      title  \\\n",
       "0                                    Avatar   \n",
       "1  Pirates of the Caribbean: At World's End   \n",
       "\n",
       "                                                tags  \n",
       "0  In the 22nd century, a paraplegic Marine is di...  \n",
       "1  Captain Barbossa, long believed to be dead, ha...  "
      ]
     },
     "metadata": {},
     "output_type": "display_data"
    }
   ],
   "source": [
    "# Combine all features into a single 'tags' column\n",
    "movies['tags'] = movies['overview'] + movies['genres'] + movies['keywords'] + movies['cast'] + movies['crew']\n",
    "\n",
    "# Create final dataset with movie_id, title, and tags\n",
    "new_df = movies[['movie_id', 'title', 'tags']].copy()\n",
    "\n",
    "# Convert tags list to string\n",
    "new_df['tags'] = new_df['tags'].apply(lambda x: \" \".join(x))\n",
    "\n",
    "print(f\"✅ Final dataset shape: {new_df.shape}\")\n",
    "print(\"\\n📊 Sample combined tags:\")\n",
    "display(new_df[['title', 'tags']].head(2))"
   ]
  },
  {
   "cell_type": "code",
   "execution_count": 27,
   "id": "fe04c448",
   "metadata": {},
   "outputs": [
    {
     "name": "stdout",
     "output_type": "stream",
     "text": [
      "✅ Vectorization complete!\n",
      "Vector shape: (4806, 5000)\n",
      "Number of unique features: 5000\n"
     ]
    }
   ],
   "source": [
    "# Text Vectorization using CountVectorizer\n",
    "cv = CountVectorizer(max_features=5000, stop_words='english')\n",
    "vector = cv.fit_transform(new_df['tags']).toarray()\n",
    "\n",
    "print(f\"✅ Vectorization complete!\")\n",
    "print(f\"Vector shape: {vector.shape}\")\n",
    "print(f\"Number of unique features: {len(cv.get_feature_names_out())}\")"
   ]
  },
  {
   "cell_type": "markdown",
   "id": "1bdc3e32",
   "metadata": {},
   "source": [
    "## 5. Similarity Matrix Calculation"
   ]
  },
  {
   "cell_type": "code",
   "execution_count": 28,
   "id": "517efc6a",
   "metadata": {},
   "outputs": [
    {
     "name": "stdout",
     "output_type": "stream",
     "text": [
      "✅ Similarity matrix calculated!\n",
      "Similarity matrix shape: (4806, 4806)\n",
      "Matrix size: 4806 x 4806\n",
      "\n",
      "📊 Sample similarity scores for first movie:\n",
      "Movie: Avatar\n",
      "Top 5 similarity scores: [np.float64(1.0), np.float64(0.26089696604360174), np.float64(0.2581988897471611), np.float64(0.25302403842552984), np.float64(0.25110592822973776)]\n"
     ]
    }
   ],
   "source": [
    "# Calculate cosine similarity matrix\n",
    "similarity = cosine_similarity(vector)\n",
    "\n",
    "print(f\"✅ Similarity matrix calculated!\")\n",
    "print(f\"Similarity matrix shape: {similarity.shape}\")\n",
    "print(f\"Matrix size: {similarity.shape[0]} x {similarity.shape[1]}\")\n",
    "\n",
    "# Display sample similarity scores\n",
    "print(f\"\\n📊 Sample similarity scores for first movie:\")\n",
    "print(f\"Movie: {new_df.iloc[0]['title']}\")\n",
    "print(f\"Top 5 similarity scores: {sorted(similarity[0], reverse=True)[:5]}\")"
   ]
  },
  {
   "cell_type": "markdown",
   "id": "035906cb",
   "metadata": {},
   "source": [
    "## 6. Recommendation System Implementation"
   ]
  },
  {
   "cell_type": "code",
   "execution_count": 29,
   "id": "47bef432",
   "metadata": {},
   "outputs": [
    {
     "name": "stdout",
     "output_type": "stream",
     "text": [
      "✅ Recommendation functions created!\n"
     ]
    }
   ],
   "source": [
    "def recommend_movies(movie_title, num_recommendations=5):\n",
    "    \"\"\"\n",
    "    Recommend movies based on content similarity\n",
    "    \n",
    "    Parameters:\n",
    "    movie_title (str): Name of the movie\n",
    "    num_recommendations (int): Number of recommendations to return\n",
    "    \n",
    "    Returns:\n",
    "    list: List of recommended movie titles\n",
    "    \"\"\"\n",
    "    try:\n",
    "        # Find the index of the movie\n",
    "        movie_index = new_df[new_df['title'] == movie_title].index[0]\n",
    "        \n",
    "        # Get similarity scores for all movies with this movie\n",
    "        distances = sorted(list(enumerate(similarity[movie_index])), reverse=True, key=lambda x: x[1])\n",
    "        \n",
    "        # Get top N recommendations (excluding the movie itself)\n",
    "        recommendations = []\n",
    "        for i in distances[1:num_recommendations+1]:\n",
    "            movie_info = {\n",
    "                'title': new_df.iloc[i[0]]['title'],\n",
    "                'similarity_score': round(i[1], 3)\n",
    "            }\n",
    "            recommendations.append(movie_info)\n",
    "        \n",
    "        return recommendations\n",
    "    \n",
    "    except IndexError:\n",
    "        return f\"Movie '{movie_title}' not found in database.\"\n",
    "\n",
    "def display_recommendations(movie_title, num_recommendations=5):\n",
    "    \"\"\"\n",
    "    Display recommendations in a formatted way\n",
    "    \"\"\"\n",
    "    print(f\"🎬 Movies similar to '{movie_title}':\")\n",
    "    print(\"=\" * 50)\n",
    "    \n",
    "    recommendations = recommend_movies(movie_title, num_recommendations)\n",
    "    \n",
    "    if isinstance(recommendations, str):\n",
    "        print(recommendations)\n",
    "        return\n",
    "    \n",
    "    for i, movie in enumerate(recommendations, 1):\n",
    "        print(f\"{i}. {movie['title']} (Similarity: {movie['similarity_score']})\")\n",
    "\n",
    "print(\"✅ Recommendation functions created!\")"
   ]
  },
  {
   "cell_type": "markdown",
   "id": "7792eadf",
   "metadata": {},
   "source": [
    "## 7. Testing the Recommendation System"
   ]
  },
  {
   "cell_type": "code",
   "execution_count": 17,
   "id": "c1cad186",
   "metadata": {},
   "outputs": [
    {
     "name": "stdout",
     "output_type": "stream",
     "text": [
      "🎬 Movies similar to 'Avatar':\n",
      "==================================================\n",
      "1. Titan A.E. (Similarity: 0.261)\n",
      "2. Small Soldiers (Similarity: 0.258)\n",
      "3. Independence Day (Similarity: 0.253)\n",
      "4. Ender's Game (Similarity: 0.251)\n",
      "5. Aliens vs Predator: Requiem (Similarity: 0.249)\n",
      "\n",
      "------------------------------------------------------------\n",
      "\n",
      "🎬 Movies similar to 'The Dark Knight':\n",
      "==================================================\n",
      "1. The Dark Knight Rises (Similarity: 0.424)\n",
      "2. Batman Begins (Similarity: 0.394)\n",
      "3. Batman Returns (Similarity: 0.322)\n",
      "4. Batman Forever (Similarity: 0.29)\n",
      "5. Batman & Robin (Similarity: 0.282)\n",
      "\n",
      "------------------------------------------------------------\n",
      "\n",
      "🎬 Movies similar to 'Inception':\n",
      "==================================================\n",
      "1. Duplex (Similarity: 0.221)\n",
      "2. The Helix... Loaded (Similarity: 0.204)\n",
      "3. Star Trek II: The Wrath of Khan (Similarity: 0.201)\n",
      "4. Transformers: Revenge of the Fallen (Similarity: 0.198)\n",
      "5. Timecop (Similarity: 0.198)\n",
      "\n",
      "------------------------------------------------------------\n",
      "\n",
      "🎬 Movies similar to 'Titanic':\n",
      "==================================================\n",
      "1. Captain Phillips (Similarity: 0.282)\n",
      "2. The Notebook (Similarity: 0.265)\n",
      "3. In the Heart of the Sea (Similarity: 0.258)\n",
      "4. Ghost Ship (Similarity: 0.256)\n",
      "5. Poseidon (Similarity: 0.243)\n",
      "\n",
      "------------------------------------------------------------\n",
      "\n",
      "🎬 Movies similar to 'The Matrix':\n",
      "==================================================\n",
      "1. The Matrix Revolutions (Similarity: 0.43)\n",
      "2. The Matrix Reloaded (Similarity: 0.338)\n",
      "3. Jupiter Ascending (Similarity: 0.216)\n",
      "4. Sleep Dealer (Similarity: 0.203)\n",
      "5. Æon Flux (Similarity: 0.2)\n",
      "\n",
      "------------------------------------------------------------\n",
      "\n"
     ]
    }
   ],
   "source": [
    "# Test with popular movies\n",
    "test_movies = ['Avatar', 'The Dark Knight', 'Inception', 'Titanic', 'The Matrix']\n",
    "\n",
    "for movie in test_movies:\n",
    "    if movie in new_df['title'].values:\n",
    "        display_recommendations(movie, 5)\n",
    "        print(\"\\n\" + \"-\"*60 + \"\\n\")\n",
    "    else:\n",
    "        print(f\"❌ '{movie}' not found in database\\n\")"
   ]
  },
  {
   "cell_type": "markdown",
   "id": "452e3de3",
   "metadata": {},
   "source": [
    "## 8. Interactive Movie Search"
   ]
  },
  {
   "cell_type": "code",
   "execution_count": 18,
   "id": "43820059",
   "metadata": {},
   "outputs": [
    {
     "name": "stdout",
     "output_type": "stream",
     "text": [
      "🔍 Search for movies (sample search):\n",
      "\n",
      "'Batman' movies: ['Batman v Superman: Dawn of Justice', 'Batman Begins', 'Batman & Robin', 'Batman Forever', 'Batman Returns']\n",
      "\n",
      "'Star' movies: ['Star Trek Into Darkness', 'Star Trek Beyond', 'Star Trek', 'Star Wars: Episode III - Revenge of the Sith', 'Star Wars: Episode II - Attack of the Clones']\n",
      "\n",
      "'Love' movies: ['The Lovers', 'The Lovely Bones', 'The Love Guru', 'Eat Pray Love', 'Beloved']\n",
      "\n",
      "'War' movies: ['Captain America: Civil War', 'World War Z', 'The Chronicles of Narnia: The Lion, the Witch and the Wardrobe', 'Warcraft', 'War of the Worlds']\n",
      "\n",
      "'Spider' movies: ['Spider-Man 3', 'The Amazing Spider-Man', 'Spider-Man 2', 'The Amazing Spider-Man 2', 'Spider-Man']\n"
     ]
    }
   ],
   "source": [
    "# Function to search for movies in the database\n",
    "def search_movies(keyword, limit=10):\n",
    "    \"\"\"\n",
    "    Search for movies containing a keyword\n",
    "    \"\"\"\n",
    "    matches = new_df[new_df['title'].str.contains(keyword, case=False, na=False)]\n",
    "    return matches['title'].head(limit).tolist()\n",
    "\n",
    "# Display available movies for testing\n",
    "print(\"🔍 Search for movies (sample search):\")\n",
    "sample_searches = ['Batman', 'Star', 'Love', 'War', 'Spider']\n",
    "\n",
    "for keyword in sample_searches:\n",
    "    results = search_movies(keyword, 5)\n",
    "    print(f\"\\n'{keyword}' movies: {results}\")"
   ]
  },
  {
   "cell_type": "markdown",
   "id": "d1722c12",
   "metadata": {},
   "source": [
    "## 9. Data Analysis and Insights"
   ]
  },
  {
   "cell_type": "code",
   "execution_count": 19,
   "id": "829fe97a",
   "metadata": {},
   "outputs": [
    {
     "data": {
      "image/png": "[encoded data removed]",
      "text/plain": [
       "<Figure size 1200x600 with 1 Axes>"
      ]
     },
     "metadata": {},
     "output_type": "display_data"
    },
    {
     "name": "stdout",
     "output_type": "stream",
     "text": [
      "📊 Genre Analysis:\n",
      "Drama             2299\n",
      "Comedy            1723\n",
      "Thriller          1275\n",
      "Action            1156\n",
      "Romance            895\n",
      "Adventure          792\n",
      "Crime              697\n",
      "ScienceFiction     538\n",
      "Horror             520\n",
      "Family             514\n",
      "Name: count, dtype: int64\n"
     ]
    }
   ],
   "source": [
    "# Analyze the most common genres\n",
    "all_genres = []\n",
    "for genres in movies['genres']:\n",
    "    all_genres.extend(genres)\n",
    "\n",
    "genre_counts = pd.Series(all_genres).value_counts().head(10)\n",
    "\n",
    "plt.figure(figsize=(12, 6))\n",
    "genre_counts.plot(kind='bar')\n",
    "plt.title('Top 10 Most Common Genres')\n",
    "plt.xlabel('Genres')\n",
    "plt.ylabel('Frequency')\n",
    "plt.xticks(rotation=45)\n",
    "plt.tight_layout()\n",
    "plt.show()\n",
    "\n",
    "print(\"📊 Genre Analysis:\")\n",
    "print(genre_counts)"
   ]
  },
  {
   "cell_type": "code",
   "execution_count": 20,
   "id": "9cd529d7",
   "metadata": {},
   "outputs": [
    {
     "data": {
      "image/png": "[encoded data removed]",
      "text/plain": [
       "<Figure size 1000x600 with 1 Axes>"
      ]
     },
     "metadata": {},
     "output_type": "display_data"
    },
    {
     "name": "stdout",
     "output_type": "stream",
     "text": [
      "📊 Similarity Statistics:\n",
      "Mean similarity: 0.039\n",
      "Std similarity: 0.041\n",
      "Max similarity: 1.000\n",
      "Min similarity: 0.000\n"
     ]
    }
   ],
   "source": [
    "# Analyze similarity distribution\n",
    "plt.figure(figsize=(10, 6))\n",
    "similarity_flat = similarity.flatten()\n",
    "similarity_flat = similarity_flat[similarity_flat < 1.0]  # Remove self-similarities\n",
    "\n",
    "plt.hist(similarity_flat, bins=50, alpha=0.7, edgecolor='black')\n",
    "plt.title('Distribution of Movie Similarity Scores')\n",
    "plt.xlabel('Cosine Similarity Score')\n",
    "plt.ylabel('Frequency')\n",
    "plt.axvline(similarity_flat.mean(), color='red', linestyle='--', label=f'Mean: {similarity_flat.mean():.3f}')\n",
    "plt.legend()\n",
    "plt.tight_layout()\n",
    "plt.show()\n",
    "\n",
    "print(f\"📊 Similarity Statistics:\")\n",
    "print(f\"Mean similarity: {similarity_flat.mean():.3f}\")\n",
    "print(f\"Std similarity: {similarity_flat.std():.3f}\")\n",
    "print(f\"Max similarity: {similarity_flat.max():.3f}\")\n",
    "print(f\"Min similarity: {similarity_flat.min():.3f}\")"
   ]
  },
  {
   "cell_type": "markdown",
   "id": "f1fef734",
   "metadata": {},
   "source": [
    "## 10. Model Persistence"
   ]
  },
  {
   "cell_type": "code",
   "execution_count": 21,
   "id": "568c1eb2",
   "metadata": {},
   "outputs": [
    {
     "name": "stdout",
     "output_type": "stream",
     "text": [
      "✅ Model saved successfully!\n",
      "📁 Files saved:\n",
      "   - model/movie_list.pkl (2.3 MB)\n",
      "   - model/similarity.pkl (176.2 MB)\n"
     ]
    }
   ],
   "source": [
    "# Save the processed data and similarity matrix\n",
    "import os\n",
    "\n",
    "# Create model directory if it doesn't exist\n",
    "if not os.path.exists('model'):\n",
    "    os.makedirs('model')\n",
    "\n",
    "# Save the data\n",
    "pickle.dump(new_df, open('model/movie_list.pkl', 'wb'))\n",
    "pickle.dump(similarity, open('model/similarity.pkl', 'wb'))\n",
    "\n",
    "print(\"✅ Model saved successfully!\")\n",
    "print(f\"📁 Files saved:\")\n",
    "print(f\"   - model/movie_list.pkl ({os.path.getsize('model/movie_list.pkl') / (1024*1024):.1f} MB)\")\n",
    "print(f\"   - model/similarity.pkl ({os.path.getsize('model/similarity.pkl') / (1024*1024):.1f} MB)\")"
   ]
  },
  {
   "cell_type": "markdown",
   "id": "7bcd9994",
   "metadata": {},
   "source": [
    "## 11. Model Evaluation and Performance"
   ]
  },
  {
   "cell_type": "code",
   "execution_count": 31,
   "id": "6e17f80c",
   "metadata": {},
   "outputs": [
    {
     "name": "stdout",
     "output_type": "stream",
     "text": [
      "📈 Recommendation Quality (Genre Overlap):\n",
      "Avatar: 0.660\n",
      "The Dark Knight: 0.550\n",
      "Inception: 0.320\n"
     ]
    }
   ],
   "source": [
    "# Performance metrics\n",
    "def evaluate_recommendations(movie_title, num_recs=5):\n",
    "    \"\"\"\n",
    "    Evaluate recommendation quality by analyzing genres overlap\n",
    "    \"\"\"\n",
    "    if movie_title not in new_df['title'].values:\n",
    "        return \"Movie not found\"\n",
    "    \n",
    "    # Get original movie genres\n",
    "    original_idx = new_df[new_df['title'] == movie_title].index[0]\n",
    "    original_genres = set(movies.iloc[original_idx]['genres'])\n",
    "    \n",
    "    # Get recommendations\n",
    "    recommendations = recommend_movies(movie_title, num_recs)\n",
    "    \n",
    "    genre_overlaps = []\n",
    "    for rec in recommendations:\n",
    "        rec_idx = new_df[new_df['title'] == rec['title']].index[0]\n",
    "        rec_genres = set(movies.iloc[rec_idx]['genres'])\n",
    "        overlap = len(original_genres.intersection(rec_genres)) / len(original_genres.union(rec_genres))\n",
    "        genre_overlaps.append(overlap)\n",
    "    \n",
    "    avg_genre_overlap = np.mean(genre_overlaps)\n",
    "    return avg_genre_overlap\n",
    "\n",
    "# Test evaluation on sample movies\n",
    "sample_movies = ['Avatar', 'The Dark Knight', 'Inception']\n",
    "print(\"📈 Recommendation Quality (Genre Overlap):\")\n",
    "for movie in sample_movies:\n",
    "    if movie in new_df['title'].values:\n",
    "        overlap = evaluate_recommendations(movie)\n",
    "        print(f\"{movie}: {overlap:.3f}\")"
   ]
  },
  {
   "cell_type": "markdown",
   "id": "aeb182ce",
   "metadata": {},
   "source": [
    "## 12. Summary and Conclusions\n",
    "\n",
    "### 🎯 **Project Achievements:**\n",
    "1. **Successfully built a content-based movie recommendation system**\n",
    "2. **Processed 5000+ movies with complex JSON data structures**\n",
    "3. **Implemented cosine similarity for accurate recommendations**\n",
    "4. **Created an interactive system for real-time recommendations**\n",
    "\n",
    "### 🔧 **Technical Implementation:**\n",
    "- **Data Processing**: Handled JSON parsing, missing values, and feature extraction\n",
    "- **Feature Engineering**: Combined genres, keywords, cast, crew, and overview\n",
    "- **Machine Learning**: Used CountVectorizer and cosine similarity\n",
    "- **Model Persistence**: Saved processed data for deployment\n",
    "\n",
    "### 📊 **Key Insights:**\n",
    "- Drama and Comedy are the most common genres\n",
    "- Similarity scores follow a normal distribution\n",
    "- System shows good genre overlap in recommendations\n",
    "\n",
    "### 🚀 **Future Improvements:**\n",
    "1. **Hybrid Filtering**: Combine content-based with collaborative filtering\n",
    "2. **Deep Learning**: Use embeddings for better feature representation\n",
    "3. **Real-time Data**: Integrate with live movie databases\n",
    "4. **User Feedback**: Implement rating-based improvements"
   ]
  },
  {
   "cell_type": "code",
   "execution_count": 30,
   "id": "44f902c3",
   "metadata": {},
   "outputs": [
    {
     "name": "stdout",
     "output_type": "stream",
     "text": [
      "🎬 MOVIE RECOMMENDATION SYSTEM READY!\n",
      "==================================================\n",
      "📊 Dataset: 4806 movies processed\n",
      "🔧 Features: 5000 unique terms\n",
      "🎯 Model: Content-based filtering with cosine similarity\n",
      "\n",
      "💡 Try the recommendation system with any movie from the database!\n",
      "\n",
      "🎬 Example Recommendation:\n",
      "🎬 Movies similar to 'The Dark Knight':\n",
      "==================================================\n",
      "1. The Dark Knight Rises (Similarity: 0.424)\n",
      "2. Batman Begins (Similarity: 0.394)\n",
      "3. Batman Returns (Similarity: 0.322)\n",
      "4. Batman Forever (Similarity: 0.29)\n",
      "5. Batman & Robin (Similarity: 0.282)\n"
     ]
    }
   ],
   "source": [
    "# Final interactive demonstration\n",
    "print(\"🎬 MOVIE RECOMMENDATION SYSTEM READY!\")\n",
    "print(\"=\"*50)\n",
    "print(f\"📊 Dataset: {new_df.shape[0]} movies processed\")\n",
    "print(f\"🔧 Features: {vector.shape[1]} unique terms\")\n",
    "print(f\"🎯 Model: Content-based filtering with cosine similarity\")\n",
    "print(\"\\n💡 Try the recommendation system with any movie from the database!\")\n",
    "\n",
    "# Example usage\n",
    "print(\"\\n🎬 Example Recommendation:\")\n",
    "display_recommendations('The Dark Knight', 5)"
   ]
  },
  {
   "cell_type": "code",
   "execution_count": 32,
   "id": "c0bf1945",
   "metadata": {},
   "outputs": [
    {
     "name": "stdout",
     "output_type": "stream",
     "text": [
      "Columns in saved data: ['movie_id', 'title', 'tags']\n",
      "\n",
      "Sample data:\n",
      "{'movie_id': 19995, 'title': 'Avatar', 'tags': 'In the 22nd century, a paraplegic Marine is dispatched to the moon Pandora on a unique mission, but becomes torn between following orders and protecting an alien civilization. Action Adventure Fantasy ScienceFiction cultureclash future spacewar spacecolony society spacetravel futuristic romance space alien tribe alienplanet cgi marine soldier battle loveaffair antiwar powerrelations mindandsoul 3d SamWorthington ZoeSaldana SigourneyWeaver JamesCameron'}\n"
     ]
    }
   ],
   "source": [
    "# Check the structure of saved data\n",
    "import pickle\n",
    "loaded_movies = pickle.load(open('model/movie_list.pkl', 'rb'))\n",
    "print(\"Columns in saved data:\", loaded_movies.columns.tolist())\n",
    "print(\"\\nSample data:\")\n",
    "print(loaded_movies.head(1).to_dict('records')[0])"
   ]
  }
 ],
 "metadata": {
  "kernelspec": {
   "display_name": ".venv",
   "language": "python",
   "name": "python3"
  },
  "language_info": {
   "codemirror_mode": {
    "name": "ipython",
    "version": 3
   },
   "file_extension": ".py",
   "mimetype": "text/x-python",
   "name": "python",
   "nbconvert_exporter": "python",
   "pygments_lexer": "ipython3",
   "version": "3.12.5"
  }
 },
 "nbformat": 4,
 "nbformat_minor": 5
}
